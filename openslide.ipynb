{
 "cells": [
  {
   "cell_type": "code",
   "execution_count": 2,
   "metadata": {},
   "outputs": [],
   "source": [
    "OPENSLIDE_PATH = r'C:\\Users\\moksu\\Desktop\\프로그래밍\\pathology_img\\openslide-win64-20221217\\bin'\n",
    "\n",
    "import os\n",
    "if hasattr(os, 'add_dll_directory'):\n",
    "    # Python >= 3.8 on Windows\n",
    "    with os.add_dll_directory(OPENSLIDE_PATH):\n",
    "        from openslide import OpenSlide\n",
    "else:\n",
    "    from openslide import OpenSlide"
   ]
  },
  {
   "cell_type": "code",
   "execution_count": 3,
   "metadata": {},
   "outputs": [],
   "source": [
    "import matplotlib.pyplot as plt\n",
    "from PIL import Image\n",
    "import glob\n",
    "import tqdm\n",
    "import numpy as np"
   ]
  },
  {
   "cell_type": "code",
   "execution_count": 5,
   "metadata": {},
   "outputs": [
    {
     "data": {
      "text/plain": [
       "['svs_data\\\\C3L-00017-21.svs',\n",
       " 'svs_data\\\\C3L-00017-22.svs',\n",
       " 'svs_data\\\\C3L-00017-23.svs',\n",
       " 'svs_data\\\\C3L-00017-24.svs',\n",
       " 'svs_data\\\\C3L-00017-25.svs',\n",
       " 'svs_data\\\\C3L-00017-26.svs',\n",
       " 'svs_data\\\\C3L-00102-21.svs',\n",
       " 'svs_data\\\\C3L-00102-22.svs',\n",
       " 'svs_data\\\\C3L-00102-26.svs',\n",
       " 'svs_data\\\\C3L-00189-21.svs']"
      ]
     },
     "execution_count": 5,
     "metadata": {},
     "output_type": "execute_result"
    }
   ],
   "source": [
    "img_path=(glob.glob(\"svs_data/*\"))\n",
    "img_path[:10]"
   ]
  },
  {
   "cell_type": "code",
   "execution_count": 15,
   "metadata": {},
   "outputs": [],
   "source": [
    "def img_read (img_path, region = (0,0), level = 0):\n",
    "    for path in tqdm.tqdm(img_path):\n",
    "        slide = (OpenSlide(path))\n",
    "        dimension = slide.dimensions\n",
    "        img = slide.read_region(region, level, dimension) #svs 이미지 불러오기 (pillow)\n",
    "        png_path = f\"png{path[3:21]}.png\" #png 이미지 저장할 경로 및 이름 지정\n",
    "        img.save(png_path,'png') #png 이미지 저장\n",
    "    return"
   ]
  },
  {
   "cell_type": "code",
   "execution_count": null,
   "metadata": {},
   "outputs": [],
   "source": [
    "img_data = img_read(img_path)"
   ]
  }
 ],
 "metadata": {
  "kernelspec": {
   "display_name": "Python 3",
   "language": "python",
   "name": "python3"
  },
  "language_info": {
   "codemirror_mode": {
    "name": "ipython",
    "version": 3
   },
   "file_extension": ".py",
   "mimetype": "text/x-python",
   "name": "python",
   "nbconvert_exporter": "python",
   "pygments_lexer": "ipython3",
   "version": "3.10.5"
  },
  "orig_nbformat": 4
 },
 "nbformat": 4,
 "nbformat_minor": 2
}
